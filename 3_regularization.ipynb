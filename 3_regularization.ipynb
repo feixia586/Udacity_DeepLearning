{
 "cells": [
  {
   "cell_type": "markdown",
   "metadata": {
    "colab_type": "text",
    "id": "kR-4eNdK6lYS"
   },
   "source": [
    "Deep Learning\n",
    "=============\n",
    "\n",
    "Assignment 3\n",
    "------------\n",
    "\n",
    "Previously in `2_fullyconnected.ipynb`, you trained a logistic regression and a neural network model.\n",
    "\n",
    "The goal of this assignment is to explore regularization techniques."
   ]
  },
  {
   "cell_type": "code",
   "execution_count": null,
   "metadata": {
    "cellView": "both",
    "colab": {
     "autoexec": {
      "startup": false,
      "wait_interval": 0
     }
    },
    "colab_type": "code",
    "collapsed": false,
    "id": "JLpLa8Jt7Vu4"
   },
   "outputs": [],
   "source": [
    "# These are all the modules we'll be using later. Make sure you can import them\n",
    "# before proceeding further.\n",
    "from __future__ import print_function\n",
    "import numpy as np\n",
    "import tensorflow as tf\n",
    "from six.moves import cPickle as pickle\n",
    "import matplotlib.pyplot as plt"
   ]
  },
  {
   "cell_type": "markdown",
   "metadata": {
    "colab_type": "text",
    "id": "1HrCK6e17WzV"
   },
   "source": [
    "First reload the data we generated in `1_notmnist.ipynb`."
   ]
  },
  {
   "cell_type": "code",
   "execution_count": null,
   "metadata": {
    "cellView": "both",
    "colab": {
     "autoexec": {
      "startup": false,
      "wait_interval": 0
     },
     "output_extras": [
      {
       "item_id": 1
      }
     ]
    },
    "colab_type": "code",
    "collapsed": false,
    "executionInfo": {
     "elapsed": 11777,
     "status": "ok",
     "timestamp": 1449849322348,
     "user": {
      "color": "",
      "displayName": "",
      "isAnonymous": false,
      "isMe": true,
      "permissionId": "",
      "photoUrl": "",
      "sessionId": "0",
      "userId": ""
     },
     "user_tz": 480
    },
    "id": "y3-cj1bpmuxc",
    "outputId": "e03576f1-ebbe-4838-c388-f1777bcc9873"
   },
   "outputs": [],
   "source": [
    "pickle_file = 'notMNIST.pickle'\n",
    "\n",
    "with open(pickle_file, 'rb') as f:\n",
    "  save = pickle.load(f)\n",
    "  train_dataset = save['train_dataset']\n",
    "  train_labels = save['train_labels']\n",
    "  valid_dataset = save['valid_dataset']\n",
    "  valid_labels = save['valid_labels']\n",
    "  test_dataset = save['test_dataset']\n",
    "  test_labels = save['test_labels']\n",
    "  del save  # hint to help gc free up memory\n",
    "  print('Training set', train_dataset.shape, train_labels.shape)\n",
    "  print('Validation set', valid_dataset.shape, valid_labels.shape)\n",
    "  print('Test set', test_dataset.shape, test_labels.shape)"
   ]
  },
  {
   "cell_type": "markdown",
   "metadata": {
    "colab_type": "text",
    "id": "L7aHrm6nGDMB"
   },
   "source": [
    "Reformat into a shape that's more adapted to the models we're going to train:\n",
    "- data as a flat matrix,\n",
    "- labels as float 1-hot encodings."
   ]
  },
  {
   "cell_type": "code",
   "execution_count": null,
   "metadata": {
    "cellView": "both",
    "colab": {
     "autoexec": {
      "startup": false,
      "wait_interval": 0
     },
     "output_extras": [
      {
       "item_id": 1
      }
     ]
    },
    "colab_type": "code",
    "collapsed": false,
    "executionInfo": {
     "elapsed": 11728,
     "status": "ok",
     "timestamp": 1449849322356,
     "user": {
      "color": "",
      "displayName": "",
      "isAnonymous": false,
      "isMe": true,
      "permissionId": "",
      "photoUrl": "",
      "sessionId": "0",
      "userId": ""
     },
     "user_tz": 480
    },
    "id": "IRSyYiIIGIzS",
    "outputId": "3f8996ee-3574-4f44-c953-5c8a04636582"
   },
   "outputs": [],
   "source": [
    "image_size = 28\n",
    "num_labels = 10\n",
    "\n",
    "def reformat(dataset, labels):\n",
    "  dataset = dataset.reshape((-1, image_size * image_size)).astype(np.float32)\n",
    "  # Map 1 to [0.0, 1.0, 0.0 ...], 2 to [0.0, 0.0, 1.0 ...]\n",
    "  labels = (np.arange(num_labels) == labels[:,None]).astype(np.float32)\n",
    "  return dataset, labels\n",
    "\n",
    "train_dataset, train_labels = reformat(train_dataset, train_labels)\n",
    "valid_dataset, valid_labels = reformat(valid_dataset, valid_labels)\n",
    "test_dataset, test_labels = reformat(test_dataset, test_labels)\n",
    "print('Training set', train_dataset.shape, train_labels.shape)\n",
    "print('Validation set', valid_dataset.shape, valid_labels.shape)\n",
    "print('Test set', test_dataset.shape, test_labels.shape)"
   ]
  },
  {
   "cell_type": "code",
   "execution_count": null,
   "metadata": {
    "cellView": "both",
    "colab": {
     "autoexec": {
      "startup": false,
      "wait_interval": 0
     }
    },
    "colab_type": "code",
    "collapsed": true,
    "id": "RajPLaL_ZW6w"
   },
   "outputs": [],
   "source": [
    "def accuracy(predictions, labels):\n",
    "  return (100.0 * np.sum(np.argmax(predictions, 1) == np.argmax(labels, 1))\n",
    "          / predictions.shape[0])"
   ]
  },
  {
   "cell_type": "markdown",
   "metadata": {
    "colab_type": "text",
    "id": "sgLbUAQ1CW-1"
   },
   "source": [
    "---\n",
    "Problem 1\n",
    "---------\n",
    "\n",
    "Introduce and tune L2 regularization for both logistic and neural network models. Remember that L2 amounts to adding a penalty on the norm of the weights to the loss. In TensorFlow, you can compute the L2 loss for a tensor `t` using `nn.l2_loss(t)`. The right amount of regularization should improve your validation / test accuracy.\n",
    "\n",
    "---"
   ]
  },
  {
   "cell_type": "code",
   "execution_count": null,
   "metadata": {
    "collapsed": false
   },
   "outputs": [],
   "source": [
    "###\n",
    "# Define the graph\n",
    "###\n",
    "batch_size = 128\n",
    "fc1_nodes = 1024\n",
    "lr = 0.05\n",
    "lam = 0.001\n",
    "\n",
    "graph = tf.Graph()\n",
    "with graph.as_default():\n",
    "    tf_train_dataset = tf.placeholder(tf.float32, \n",
    "                                      [batch_size, image_size * image_size])\n",
    "    tf_train_labels = tf.placeholder(tf.float32, \n",
    "                                     [batch_size, num_labels])\n",
    "    tf_valid_dataset = tf.constant(valid_dataset)\n",
    "    tf_test_dataset = tf.constant(test_dataset)\n",
    "    \n",
    "    fc1_weight = tf.Variable(tf.truncated_normal([image_size * image_size, fc1_nodes]))\n",
    "    fc1_bias = tf.Variable(tf.zeros([fc1_nodes]))\n",
    "    \n",
    "    fc2_weight = tf.Variable(tf.truncated_normal([fc1_nodes, num_labels]))\n",
    "    fc2_bias = tf.Variable(tf.zeros([num_labels]))\n",
    "    \n",
    "    def model(data):\n",
    "        h1 = tf.nn.relu(tf.matmul(data, fc1_weight) + fc1_bias)\n",
    "        logits = tf.matmul(h1, fc2_weight) + fc2_bias\n",
    "        return logits\n",
    "    \n",
    "    logits = model(tf_train_dataset)\n",
    "    loss = tf.reduce_mean(\n",
    "        tf.nn.softmax_cross_entropy_with_logits(logits, tf_train_labels))\n",
    "    regularizer = (tf.nn.l2_loss(fc1_weight) + tf.nn.l2_loss(fc1_bias) \n",
    "                   + tf.nn.l2_loss(fc2_weight) + tf.nn.l2_loss(fc2_bias))\n",
    "    loss += lam * regularizer\n",
    "    optimizer = tf.train.GradientDescentOptimizer(lr).minimize(loss)\n",
    "    \n",
    "    train_prediction = tf.nn.softmax(logits)\n",
    "    valid_prediction = tf.nn.softmax(model(tf_valid_dataset))\n",
    "    test_prediction = tf.nn.softmax(model(tf_test_dataset))\n",
    "\n",
    "###\n",
    "# Run the graph\n",
    "###\n",
    "train_size = train_dataset.shape[0]\n",
    "num_steps = train_size // batch_size * 10\n",
    "\n",
    "with tf.Session(graph=graph) as sess:\n",
    "    tf.global_variables_initializer().run()\n",
    "    train_accs, valid_accs, step_hist = [], [], []\n",
    "    for step in range(num_steps):\n",
    "        offset = (step * batch_size) % (train_size - batch_size)\n",
    "        batch_data = train_dataset[offset:(offset + batch_size), :]\n",
    "        batch_labels = train_labels[offset:(offset + batch_size), :]\n",
    "        feed_dict = {tf_train_dataset : batch_data, \n",
    "                     tf_train_labels: batch_labels}\n",
    "        _, l, predictions = sess.run([optimizer, loss, train_prediction],\n",
    "                                     feed_dict=feed_dict)\n",
    "        if (step % 500 == 0):\n",
    "            train_acc = accuracy(predictions, batch_labels)\n",
    "            valid_acc = accuracy(valid_prediction.eval(), valid_labels)\n",
    "            train_accs.append(train_acc / 100.0)\n",
    "            valid_accs.append(valid_acc / 100.0)\n",
    "            step_hist.append(step)\n",
    "            print(\"Minibatch loss at step %d: %f\" % (step, l))\n",
    "            print(\"Minibatch accuracy: %.1f%%\" % train_acc)\n",
    "            print(\"Validation accuracy: %.1f%%\" % valid_acc)\n",
    "    \n",
    "    plt.plot(step_hist, train_accs, 'b', label='training')\n",
    "    plt.plot(step_hist, valid_accs, 'g', label='validation')\n",
    "    plt.legend(loc=\"lower right\")\n",
    "    plt.show()\n",
    "    print(\"Test accuracy: %.1f%%\" % accuracy(\n",
    "            test_prediction.eval(), test_labels))"
   ]
  },
  {
   "cell_type": "markdown",
   "metadata": {
    "colab_type": "text",
    "id": "na8xX2yHZzNF"
   },
   "source": [
    "---\n",
    "Problem 2\n",
    "---------\n",
    "Let's demonstrate an extreme case of overfitting. Restrict your training data to just a few batches. What happens?\n",
    "\n",
    "---"
   ]
  },
  {
   "cell_type": "code",
   "execution_count": null,
   "metadata": {
    "collapsed": false
   },
   "outputs": [],
   "source": [
    "###\n",
    "# Define the graph\n",
    "###\n",
    "batch_size = 128\n",
    "fc1_nodes = 1024\n",
    "lr = 0.05\n",
    "lam = 0.001\n",
    "\n",
    "graph = tf.Graph()\n",
    "with graph.as_default():\n",
    "    tf_train_dataset = tf.placeholder(tf.float32, \n",
    "                                      [batch_size, image_size * image_size])\n",
    "    tf_train_labels = tf.placeholder(tf.float32, \n",
    "                                     [batch_size, num_labels])\n",
    "    tf_valid_dataset = tf.constant(valid_dataset)\n",
    "    tf_test_dataset = tf.constant(test_dataset)\n",
    "    \n",
    "    fc1_weight = tf.Variable(tf.truncated_normal([image_size * image_size, fc1_nodes]))\n",
    "    fc1_bias = tf.Variable(tf.zeros([fc1_nodes]))\n",
    "    \n",
    "    fc2_weight = tf.Variable(tf.truncated_normal([fc1_nodes, num_labels]))\n",
    "    fc2_bias = tf.Variable(tf.zeros([num_labels]))\n",
    "    \n",
    "    def model(data):\n",
    "        h1 = tf.nn.relu(tf.matmul(data, fc1_weight) + fc1_bias)\n",
    "        logits = tf.matmul(h1, fc2_weight) + fc2_bias\n",
    "        return logits\n",
    "    \n",
    "    logits = model(tf_train_dataset)\n",
    "    loss = tf.reduce_mean(\n",
    "        tf.nn.softmax_cross_entropy_with_logits(logits, tf_train_labels))\n",
    "    regularizer = (tf.nn.l2_loss(fc1_weight) + tf.nn.l2_loss(fc1_bias) \n",
    "                   + tf.nn.l2_loss(fc2_weight) + tf.nn.l2_loss(fc2_bias))\n",
    "    loss += lam * regularizer\n",
    "    optimizer = tf.train.GradientDescentOptimizer(lr).minimize(loss)\n",
    "    \n",
    "    train_prediction = tf.nn.softmax(logits)\n",
    "    valid_prediction = tf.nn.softmax(model(tf_valid_dataset))\n",
    "    test_prediction = tf.nn.softmax(model(tf_test_dataset))\n",
    "\n",
    "###\n",
    "# Run the graph\n",
    "###\n",
    "train_size = train_dataset.shape[0]\n",
    "actual_train_size = batch_size * 3\n",
    "num_steps = actual_train_size // batch_size * 100\n",
    "\n",
    "with tf.Session(graph=graph) as sess:\n",
    "    tf.global_variables_initializer().run()\n",
    "    train_accs, valid_accs, step_hist = [], [], []\n",
    "    for step in range(num_steps):\n",
    "        offset = (step * batch_size) % (actual_train_size - batch_size + 1)\n",
    "        batch_data = train_dataset[offset:(offset + batch_size), :]\n",
    "        batch_labels = train_labels[offset:(offset + batch_size), :]\n",
    "        feed_dict = {tf_train_dataset : batch_data, \n",
    "                     tf_train_labels: batch_labels}\n",
    "        _, l, predictions = sess.run([optimizer, loss, train_prediction],\n",
    "                                     feed_dict=feed_dict)\n",
    "        if (step % 50 == 0):\n",
    "            train_acc = accuracy(predictions, batch_labels)\n",
    "            valid_acc = accuracy(valid_prediction.eval(), valid_labels)\n",
    "            train_accs.append(train_acc / 100.0)\n",
    "            valid_accs.append(valid_acc / 100.0)\n",
    "            step_hist.append(step)\n",
    "            print(\"Minibatch loss at step %d: %f\" % (step, l))\n",
    "            print(\"Minibatch accuracy: %.1f%%\" % train_acc)\n",
    "            print(\"Validation accuracy: %.1f%%\" % valid_acc)\n",
    "    \n",
    "    plt.plot(step_hist, train_accs, 'b', label='training')\n",
    "    plt.plot(step_hist, valid_accs, 'g', label='validation')\n",
    "    plt.legend(loc=\"lower right\")\n",
    "    plt.show()\n",
    "    print(\"Test accuracy: %.1f%%\" % accuracy(\n",
    "            test_prediction.eval(), test_labels))"
   ]
  },
  {
   "cell_type": "markdown",
   "metadata": {
    "colab_type": "text",
    "id": "ww3SCBUdlkRc"
   },
   "source": [
    "---\n",
    "Problem 3\n",
    "---------\n",
    "Introduce Dropout on the hidden layer of the neural network. Remember: Dropout should only be introduced during training, not evaluation, otherwise your evaluation results would be stochastic as well. TensorFlow provides `nn.dropout()` for that, but you have to make sure it's only inserted during training.\n",
    "\n",
    "What happens to our extreme overfitting case?\n",
    "\n",
    "---"
   ]
  },
  {
   "cell_type": "code",
   "execution_count": null,
   "metadata": {
    "collapsed": false
   },
   "outputs": [],
   "source": [
    "# Define the graph\n",
    "###\n",
    "batch_size = 128\n",
    "fc1_nodes = 1024\n",
    "lr = 0.03\n",
    "keep_prob = 0.8\n",
    "lam = 0.001\n",
    "\n",
    "graph = tf.Graph()\n",
    "with graph.as_default():\n",
    "    tf_train_dataset = tf.placeholder(tf.float32, \n",
    "                                      [batch_size, image_size * image_size])\n",
    "    tf_train_labels = tf.placeholder(tf.float32, \n",
    "                                     [batch_size, num_labels])\n",
    "    tf_valid_dataset = tf.constant(valid_dataset)\n",
    "    tf_test_dataset = tf.constant(test_dataset)\n",
    "    \n",
    "    fc1_weight = tf.Variable(tf.truncated_normal([image_size * image_size, fc1_nodes]))\n",
    "    fc1_bias = tf.Variable(tf.zeros([fc1_nodes]))\n",
    "    \n",
    "    fc2_weight = tf.Variable(tf.truncated_normal([fc1_nodes, num_labels]))\n",
    "    fc2_bias = tf.Variable(tf.zeros([num_labels]))\n",
    "    \n",
    "    def model(data, train=False):\n",
    "        h1 = tf.nn.relu(tf.matmul(data, fc1_weight) + fc1_bias)\n",
    "        if train:\n",
    "            h1 = tf.nn.dropout(h1, keep_prob)\n",
    "            \n",
    "        logits = tf.matmul(h1, fc2_weight) + fc2_bias\n",
    "        return logits\n",
    "    \n",
    "    logits = model(tf_train_dataset, True)\n",
    "    loss = tf.reduce_mean(\n",
    "        tf.nn.softmax_cross_entropy_with_logits(logits, tf_train_labels))\n",
    "    regularizer = (tf.nn.l2_loss(fc1_weight) + tf.nn.l2_loss(fc1_bias) \n",
    "                   + tf.nn.l2_loss(fc2_weight) + tf.nn.l2_loss(fc2_bias))\n",
    "    loss += lam * regularizer\n",
    "    optimizer = tf.train.GradientDescentOptimizer(lr).minimize(loss)\n",
    "    \n",
    "    train_prediction = tf.nn.softmax(logits)\n",
    "    valid_prediction = tf.nn.softmax(model(tf_valid_dataset))\n",
    "    test_prediction = tf.nn.softmax(model(tf_test_dataset))\n",
    "\n",
    "###\n",
    "# Run the graph\n",
    "###\n",
    "train_size = train_dataset.shape[0]\n",
    "num_steps = train_size // batch_size * 100\n",
    "\n",
    "with tf.Session(graph=graph) as sess:\n",
    "    tf.global_variables_initializer().run()\n",
    "    train_accs, valid_accs, step_hist = [], [], []\n",
    "    for step in range(num_steps):\n",
    "        offset = (step * batch_size) % (train_size - batch_size)\n",
    "        batch_data = train_dataset[offset:(offset + batch_size), :]\n",
    "        batch_labels = train_labels[offset:(offset + batch_size), :]\n",
    "        feed_dict = {tf_train_dataset : batch_data, \n",
    "                     tf_train_labels: batch_labels}\n",
    "        _, l, predictions = sess.run([optimizer, loss, train_prediction],\n",
    "                                     feed_dict=feed_dict)\n",
    "        if (step % 500 == 0):\n",
    "            train_acc = accuracy(predictions, batch_labels)\n",
    "            valid_acc = accuracy(valid_prediction.eval(), valid_labels)\n",
    "            train_accs.append(train_acc / 100.0)\n",
    "            valid_accs.append(valid_acc / 100.0)\n",
    "            step_hist.append(step)\n",
    "            print(\"Minibatch loss at step %d: %f\" % (step, l))\n",
    "            print(\"Minibatch accuracy: %.1f%%\" % train_acc)\n",
    "            print(\"Validation accuracy: %.1f%%\" % valid_acc)\n",
    "    \n",
    "    plt.plot(step_hist, train_accs, 'b', label='training')\n",
    "    plt.plot(step_hist, valid_accs, 'g', label='validation')\n",
    "    plt.legend(loc=\"lower right\")\n",
    "    plt.show()\n",
    "    print(\"Test accuracy: %.1f%%\" % accuracy(\n",
    "            test_prediction.eval(), test_labels))"
   ]
  },
  {
   "cell_type": "markdown",
   "metadata": {
    "colab_type": "text",
    "id": "-b1hTz3VWZjw"
   },
   "source": [
    "---\n",
    "Problem 4\n",
    "---------\n",
    "\n",
    "Try to get the best performance you can using a multi-layer model! The best reported test accuracy using a deep network is [97.1%](http://yaroslavvb.blogspot.com/2011/09/notmnist-dataset.html?showComment=1391023266211#c8758720086795711595).\n",
    "\n",
    "One avenue you can explore is to add multiple layers.\n",
    "\n",
    "Another one is to use learning rate decay:\n",
    "\n",
    "    global_step = tf.Variable(0)  # count the number of steps taken.\n",
    "    learning_rate = tf.train.exponential_decay(0.5, global_step, ...)\n",
    "    optimizer = tf.train.GradientDescentOptimizer(learning_rate).minimize(loss, global_step=global_step)\n",
    " \n",
    " ---\n"
   ]
  },
  {
   "cell_type": "code",
   "execution_count": null,
   "metadata": {
    "collapsed": false
   },
   "outputs": [],
   "source": [
    "###\n",
    "# Define the graph\n",
    "###\n",
    "\n",
    "# In current setting, it's ok to increase layer size and increase dropout.\n",
    "batch_size = 1024\n",
    "fc1_nodes = 1024\n",
    "fc2_nodes = 512\n",
    "fc3_nodes = 256\n",
    "keep_prob = 0.8\n",
    "lr = 0.001\n",
    "lam = 0.001\n",
    "\n",
    "graph = tf.Graph()\n",
    "with graph.as_default():    \n",
    "    tf_train_dataset = tf.placeholder(tf.float32, \n",
    "                                      [batch_size, image_size * image_size])\n",
    "    tf_train_labels = tf.placeholder(tf.float32, \n",
    "                                     [batch_size, num_labels])\n",
    "    tf_valid_dataset = tf.constant(valid_dataset)\n",
    "    tf_test_dataset = tf.constant(test_dataset)\n",
    "\n",
    "    '''\n",
    "    fc1_weight = tf.Variable(tf.truncated_normal([image_size * image_size, fc1_nodes]))\n",
    "    fc1_bias = tf.Variable(tf.zeros([fc1_nodes]))\n",
    "\n",
    "    fc2_weight = tf.Variable(tf.truncated_normal([fc1_nodes, fc2_nodes]))\n",
    "    fc2_bias = tf.Variable(tf.zeros([fc2_nodes]))\n",
    "\n",
    "    fc3_weight = tf.Variable(tf.truncated_normal([fc2_nodes, fc3_nodes]))\n",
    "    fc3_bias = tf.Variable(tf.zeros([fc3_nodes]))\n",
    "\n",
    "    fc4_weight = tf.Variable(tf.truncated_normal([fc3_nodes, num_labels]))\n",
    "    fc4_bias = tf.Variable(tf.zeros([num_labels]))\n",
    "    '''\n",
    "    fc1_weight = tf.get_variable('fc1_weight', shape=[image_size * image_size, fc1_nodes], \n",
    "                                initializer=tf.contrib.layers.xavier_initializer())\n",
    "    fc1_bias = tf.get_variable('fc1_bias', initializer=tf.zeros([fc1_nodes]))\n",
    "    \n",
    "    fc2_weight = tf.get_variable('fc2_weight', shape=[fc1_nodes, fc2_nodes], \n",
    "                                initializer=tf.contrib.layers.xavier_initializer())\n",
    "    fc2_bias = tf.get_variable('fc2_bias', initializer=tf.zeros([fc2_nodes]))\n",
    "    \n",
    "    fc3_weight = tf.get_variable('fc3_weight', shape=[fc2_nodes, fc3_nodes],\n",
    "                                initializer=tf.contrib.layers.xavier_initializer())\n",
    "    fc3_bias = tf.get_variable('fc3_bias', initializer=tf.zeros([fc3_nodes]))\n",
    "    \n",
    "    fc4_weight = tf.get_variable('fc4_weight', shape=[fc3_nodes, num_labels], \n",
    "                                initializer=tf.contrib.layers.xavier_initializer())\n",
    "    fc4_bias = tf.get_variable('fc4_bias', initializer=tf.zeros([num_labels]))\n",
    "    \n",
    "\n",
    "    def model(data, train=False):\n",
    "        h1 = tf.nn.relu(tf.matmul(data, fc1_weight) + fc1_bias)\n",
    "        if train:\n",
    "            h1 = tf.nn.dropout(h1, keep_prob)\n",
    "\n",
    "        h2 = tf.nn.relu(tf.matmul(h1, fc2_weight) + fc2_bias)\n",
    "        if train:\n",
    "            h2 = tf.nn.dropout(h2, keep_prob)\n",
    "\n",
    "        h3 = tf.nn.relu(tf.matmul(h2, fc3_weight) + fc3_bias)\n",
    "        if train:\n",
    "            h3 = tf.nn.dropout(h3, keep_prob)\n",
    "\n",
    "        logits = tf.matmul(h3, fc4_weight) + fc4_bias\n",
    "        return logits\n",
    "\n",
    "    logits = model(tf_train_dataset, True)\n",
    "    loss = tf.reduce_mean(\n",
    "        tf.nn.softmax_cross_entropy_with_logits(logits, tf_train_labels))\n",
    "    '''\n",
    "    regularizer = (tf.nn.l2_loss(fc1_weight) + tf.nn.l2_loss(fc1_bias) \n",
    "                   + tf.nn.l2_loss(fc2_weight) + tf.nn.l2_loss(fc2_bias))\n",
    "    loss += lam * regularizer\n",
    "    '''\n",
    "    optimizer = tf.train.AdagradOptimizer(lr).minimize(loss)\n",
    "\n",
    "    train_prediction = tf.nn.softmax(logits)\n",
    "    valid_prediction = tf.nn.softmax(model(tf_valid_dataset))\n",
    "    test_prediction = tf.nn.softmax(model(tf_test_dataset))\n",
    "\n",
    "###\n",
    "# Run the graph\n",
    "###\n",
    "train_size = train_dataset.shape[0]\n",
    "num_steps = train_size // batch_size * 1000\n",
    "\n",
    "with tf.Session(graph=graph) as sess:\n",
    "    tf.global_variables_initializer().run()\n",
    "    train_accs, valid_accs, step_hist = [], [], []\n",
    "    for step in range(num_steps):\n",
    "        offset = (step * batch_size) % (train_size - batch_size)\n",
    "        batch_data = train_dataset[offset:(offset + batch_size), :]\n",
    "        batch_labels = train_labels[offset:(offset + batch_size), :]\n",
    "        feed_dict = {tf_train_dataset : batch_data, \n",
    "                     tf_train_labels: batch_labels}\n",
    "        _, l, predictions, the_logits = sess.run([optimizer, loss, train_prediction, logits],\n",
    "                                     feed_dict=feed_dict)\n",
    "        if (step % 500 == 0):\n",
    "            train_acc = accuracy(predictions, batch_labels)\n",
    "            valid_acc = accuracy(valid_prediction.eval(), valid_labels)\n",
    "            train_accs.append(train_acc / 100.0)\n",
    "            valid_accs.append(valid_acc / 100.0)\n",
    "            step_hist.append(step)\n",
    "            print(\"Minibatch loss at step %d: %f\" % (step, l))\n",
    "            print(\"Minibatch accuracy: %.1f%%\" % train_acc)\n",
    "            print(\"Validation accuracy: %.1f%%\" % valid_acc)\n",
    "    \n",
    "    plt.plot(step_hist, train_accs, 'b', label='training')\n",
    "    plt.plot(step_hist, valid_accs, 'g', label='validation')\n",
    "    plt.legend(loc=\"lower right\")\n",
    "    plt.show()\n",
    "    print(\"Test accuracy: %.1f%%\" % accuracy(\n",
    "            test_prediction.eval(), test_labels))"
   ]
  }
 ],
 "metadata": {
  "anaconda-cloud": {},
  "colab": {
   "default_view": {},
   "name": "3_regularization.ipynb",
   "provenance": [],
   "version": "0.3.2",
   "views": {}
  },
  "kernelspec": {
   "display_name": "Python [default]",
   "language": "python",
   "name": "python3"
  },
  "language_info": {
   "codemirror_mode": {
    "name": "ipython",
    "version": 3
   },
   "file_extension": ".py",
   "mimetype": "text/x-python",
   "name": "python",
   "nbconvert_exporter": "python",
   "pygments_lexer": "ipython3",
   "version": "3.5.2"
  }
 },
 "nbformat": 4,
 "nbformat_minor": 0
}
